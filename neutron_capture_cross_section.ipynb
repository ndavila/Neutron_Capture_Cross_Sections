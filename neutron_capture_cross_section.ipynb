{
 "cells": [
  {
   "cell_type": "markdown",
   "metadata": {
    "id": "quNLe2bn0Eh3"
   },
   "source": [
    "This is a notebook that calculates neutron capture cross sections at a given T9 in units of millibarns $(mb)$"
   ]
  },
  {
   "cell_type": "markdown",
   "metadata": {},
   "source": [
    "Here we import the relavent python packages"
   ]
  },
  {
   "cell_type": "code",
   "execution_count": null,
   "metadata": {
    "id": "wjXHgtLr0Lqt"
   },
   "outputs": [],
   "source": [
    "import sys\n",
    "!{sys.executable} -m pip install --quiet wnutils\n",
    "\n",
    "import sys\n",
    "!{sys.executable} -m pip install --quiet astropy\n",
    "\n",
    "import os, io, requests\n",
    "from lxml import etree\n",
    "\n",
    "import wnutils.xml as wx\n",
    "import numpy as np\n",
    "from astropy import constants as pc\n",
    "from astropy import units as u\n",
    "from matplotlib import pyplot as plt\n",
    "\n",
    "from collections import defaultdict"
   ]
  },
  {
   "cell_type": "markdown",
   "metadata": {
    "id": "Ow3BRH3q1oRk"
   },
   "source": [
    "Now we download an xml that contains the reaction data"
   ]
  },
  {
   "cell_type": "code",
   "execution_count": null,
   "metadata": {
    "id": "K7puh5bF1o0g"
   },
   "outputs": [],
   "source": [
    "my_xml = wx.Xml(io.BytesIO(requests.get('https://osf.io/vqhxr/download').content))"
   ]
  },
  {
   "cell_type": "markdown",
   "metadata": {},
   "source": [
    "Here we use an xpath to select out only $(n, \\gamma)$ reactions"
   ]
  },
  {
   "cell_type": "code",
   "execution_count": null,
   "metadata": {
    "id": "vBWn1_hA12SY"
   },
   "outputs": [],
   "source": [
    "reac = my_xml.get_reaction_data(\"[reactant = 'n' and count(reactant) = 2  and product = 'gamma' and count(product) = 2]\")"
   ]
  },
  {
   "cell_type": "markdown",
   "metadata": {},
   "source": [
    "Here we choose the temperature, T9, to calculate the cross sections"
   ]
  },
  {
   "cell_type": "code",
   "execution_count": null,
   "metadata": {
    "id": "t9AKivcu1rjQ"
   },
   "outputs": [],
   "source": [
    "t9 = 0.8\n",
    "T = t9 * 1.e9 * u.K"
   ]
  },
  {
   "cell_type": "markdown",
   "metadata": {},
   "source": [
    "Now we calculate the thermal velocity"
   ]
  },
  {
   "cell_type": "code",
   "execution_count": null,
   "metadata": {
    "id": "NsaGPWxM1uUI"
   },
   "outputs": [],
   "source": [
    "v_t = np.sqrt((2 * pc.k_B.decompose(u.cgs.bases) * T) / pc.m_n.decompose(u.cgs.bases))"
   ]
  },
  {
   "cell_type": "code",
   "execution_count": null,
   "metadata": {
    "id": "V757KANm1yHC"
   },
   "outputs": [],
   "source": [
    "sig_dict = {}\n",
    "\n",
    "filter = {}"
   ]
  },
  {
   "cell_type": "code",
   "execution_count": null,
   "metadata": {
    "id": "HOBalg4I15Mm"
   },
   "outputs": [],
   "source": [
    "for s in reac:\n",
    "    reaction = reac[s]\n",
    "    rate = reaction.compute_rate(t9) * u.cm**3 /u.second /u.mol \n",
    "    sigma = (rate / (pc.N_A * v_t)).to(u.barn)\n",
    "        \n",
    "    usigma = 1000 * sigma / u.barn\n",
    "    sig_dict[s] = usigma "
   ]
  },
  {
   "cell_type": "code",
   "execution_count": null,
   "metadata": {
    "id": "HjQv36BX10c-"
   },
   "outputs": [],
   "source": [
    "nuc_xpath = str(\"[z = 43 and a >= 90 and a <= 100]\")\n",
    "\n",
    "nuclides = {}\n",
    "\n",
    "nuc = my_xml.get_nuclide_data(nuc_xpath)\n",
    "nuclides.update(nuc)"
   ]
  },
  {
   "cell_type": "markdown",
   "metadata": {},
   "source": [
    "We now specify that we only want the $(n,\\gamma)$ reactions with the nuclides of interest"
   ]
  },
  {
   "cell_type": "code",
   "execution_count": null,
   "metadata": {
    "id": "RqnBhhwE17i3"
   },
   "outputs": [],
   "source": [
    "for reaction in reac:\n",
    "    for reactant in reac[reaction].reactants:\n",
    "        if reactant in nuclides:\n",
    "            filter[reaction] = nuclides[reactant]['n']\n"
   ]
  },
  {
   "cell_type": "code",
   "execution_count": null,
   "metadata": {
    "id": "ruriDZsw19KQ"
   },
   "outputs": [],
   "source": [
    "for key in list(sig_dict.keys()):\n",
    "    if key not in filter:\n",
    "        del sig_dict[key]"
   ]
  },
  {
   "cell_type": "markdown",
   "metadata": {},
   "source": [
    "Change 2 in {.2f} to change the numver of decimal places shown"
   ]
  },
  {
   "cell_type": "code",
   "execution_count": null,
   "metadata": {
    "colab": {
     "base_uri": "https://localhost:8080/"
    },
    "id": "e9irPJhj1-lN",
    "outputId": "90df6416-d807-4908-f209-f9d39dddb2aa"
   },
   "outputs": [],
   "source": [
    "print('Cross Sections at T9 of ' + str(t9))\n",
    "\n",
    "for k,v in sorted(sig_dict.items()):\n",
    "    x =\"{:.2f}\".format(v)\n",
    "    print(str(k)+': ' + str(x) + ' mb')"
   ]
  },
  {
   "cell_type": "markdown",
   "metadata": {},
   "source": [
    "We now plot $\\sigma_n$ vs $n$"
   ]
  },
  {
   "cell_type": "code",
   "execution_count": null,
   "metadata": {},
   "outputs": [],
   "source": [
    "combine = defaultdict(list)\n",
    "\n",
    "for d in (sig_dict, filter):\n",
    "    for key, value in d.items():\n",
    "       combine[key].append(value)\n",
    "    \n",
    "sortedcombine = {k: v for k, v in sorted(combine.items(), key=lambda item: item[1][1])}\n",
    "\n",
    "x = []\n",
    "y = []\n",
    "\n",
    "for s in list(sortedcombine.values()):\n",
    "    x.append(s[1])\n",
    "    y.append(s[0])\n",
    "\n",
    "#print(sortedcombine)\n",
    "#print(x)\n",
    "#print(y)\n",
    "\n",
    "plt.plot(x, y)\n",
    "plt.ylabel('$\\\\sigma_n$')\n",
    "plt.xlabel('n')\n",
    "plt.show()"
   ]
  }
 ],
 "metadata": {
  "colab": {
   "authorship_tag": "ABX9TyOBa1w3f7TJR05ML+W6Wpji",
   "include_colab_link": true,
   "name": "Copy of Untitled0.ipynb",
   "provenance": [],
   "toc_visible": true
  },
  "kernelspec": {
   "display_name": "myenv",
   "language": "python",
   "name": "myenv"
  },
  "language_info": {
   "codemirror_mode": {
    "name": "ipython",
    "version": 3
   },
   "file_extension": ".py",
   "mimetype": "text/x-python",
   "name": "python",
   "nbconvert_exporter": "python",
   "pygments_lexer": "ipython3",
   "version": "3.7.12"
  }
 },
 "nbformat": 4,
 "nbformat_minor": 1
}
