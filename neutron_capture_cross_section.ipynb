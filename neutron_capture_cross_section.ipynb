{
 "cells": [
  {
   "cell_type": "markdown",
   "metadata": {
    "id": "quNLe2bn0Eh3"
   },
   "source": [
    "This is a notebook that calculates neutron capture cross sections at a given T9 in units of millibarns $(mb)$"
   ]
  },
  {
   "cell_type": "markdown",
   "metadata": {},
   "source": [
    "Here we import the relavent python packages"
   ]
  },
  {
   "cell_type": "code",
   "execution_count": 1,
   "metadata": {
    "id": "wjXHgtLr0Lqt"
   },
   "outputs": [],
   "source": [
    "import sys\n",
    "!{sys.executable} -m pip install --quiet wnutils\n",
    "\n",
    "import sys\n",
    "!{sys.executable} -m pip install --quiet astropy\n",
    "\n",
    "import os, io, requests\n",
    "from lxml import etree\n",
    "\n",
    "import wnutils.xml as wx\n",
    "import numpy as np\n",
    "from astropy import constants as pc\n",
    "from astropy import units as u\n",
    "from matplotlib import pyplot as plt\n",
    "\n",
    "from collections import defaultdict\n",
    "\n",
    "import networkx as nx"
   ]
  },
  {
   "cell_type": "markdown",
   "metadata": {
    "id": "Ow3BRH3q1oRk"
   },
   "source": [
    "Now we download an xml that contains the reaction data"
   ]
  },
  {
   "cell_type": "code",
   "execution_count": 2,
   "metadata": {
    "id": "K7puh5bF1o0g"
   },
   "outputs": [],
   "source": [
    "my_xml = wx.Xml(io.BytesIO(requests.get('https://osf.io/vqhxr/download').content))"
   ]
  },
  {
   "cell_type": "markdown",
   "metadata": {},
   "source": [
    "Here we use an xpath to select out only $(n, \\gamma)$ reactions"
   ]
  },
  {
   "cell_type": "code",
   "execution_count": 3,
   "metadata": {
    "id": "vBWn1_hA12SY"
   },
   "outputs": [],
   "source": [
    "reac = my_xml.get_reaction_data(\"[reactant = 'n' and count(reactant) = 2  and product = 'gamma' and count(product) = 2]\")"
   ]
  },
  {
   "cell_type": "markdown",
   "metadata": {},
   "source": [
    "Here we choose the temperature, T9, to calculate the cross sections"
   ]
  },
  {
   "cell_type": "code",
   "execution_count": 4,
   "metadata": {
    "id": "t9AKivcu1rjQ"
   },
   "outputs": [],
   "source": [
    "t9 = 0.8\n",
    "T = t9 * 1.e9 * u.K"
   ]
  },
  {
   "cell_type": "markdown",
   "metadata": {},
   "source": [
    "Now we calculate the thermal velocity"
   ]
  },
  {
   "cell_type": "code",
   "execution_count": 5,
   "metadata": {
    "id": "NsaGPWxM1uUI"
   },
   "outputs": [],
   "source": [
    "v_t = np.sqrt((2 * pc.k_B.decompose(u.cgs.bases) * T) / pc.m_n.decompose(u.cgs.bases))"
   ]
  },
  {
   "cell_type": "code",
   "execution_count": 6,
   "metadata": {
    "id": "V757KANm1yHC"
   },
   "outputs": [],
   "source": [
    "sig_dict = {}\n",
    "\n",
    "filter = {}"
   ]
  },
  {
   "cell_type": "code",
   "execution_count": 7,
   "metadata": {
    "id": "HOBalg4I15Mm"
   },
   "outputs": [],
   "source": [
    "for s in reac:\n",
    "    reaction = reac[s]\n",
    "    rate = reaction.compute_rate(t9) * u.cm**3 /u.second /u.mol \n",
    "    sigma = (rate / (pc.N_A * v_t)).to(u.barn)\n",
    "        \n",
    "    usigma = 1000 * sigma / u.barn\n",
    "    sig_dict[s] = usigma "
   ]
  },
  {
   "cell_type": "code",
   "execution_count": 8,
   "metadata": {
    "id": "HjQv36BX10c-"
   },
   "outputs": [],
   "source": [
    "nuc_xpath = str(\"[z = 43 and a >= 90 and a <= 100]\")\n",
    "\n",
    "nuclides = {}\n",
    "\n",
    "nuc = my_xml.get_nuclide_data(nuc_xpath)\n",
    "nuclides.update(nuc)"
   ]
  },
  {
   "cell_type": "markdown",
   "metadata": {},
   "source": [
    "We now specify that we only want the $(n,\\gamma)$ reactions with the nuclides of interest"
   ]
  },
  {
   "cell_type": "code",
   "execution_count": 9,
   "metadata": {
    "id": "RqnBhhwE17i3"
   },
   "outputs": [],
   "source": [
    "for reaction in reac:\n",
    "    for reactant in reac[reaction].reactants:\n",
    "        if reactant in nuclides:\n",
    "            filter[reaction] = nuclides[reactant]['n']"
   ]
  },
  {
   "cell_type": "code",
   "execution_count": 10,
   "metadata": {
    "id": "ruriDZsw19KQ"
   },
   "outputs": [],
   "source": [
    "for key in list(sig_dict.keys()):\n",
    "    if key not in filter:\n",
    "        del sig_dict[key]"
   ]
  },
  {
   "cell_type": "markdown",
   "metadata": {},
   "source": [
    "Change 2 in {.2f} to change the numver of decimal places shown"
   ]
  },
  {
   "cell_type": "code",
   "execution_count": 11,
   "metadata": {
    "colab": {
     "base_uri": "https://localhost:8080/"
    },
    "id": "e9irPJhj1-lN",
    "outputId": "90df6416-d807-4908-f209-f9d39dddb2aa"
   },
   "outputs": [
    {
     "name": "stdout",
     "output_type": "stream",
     "text": [
      "Cross Sections at T9 of 0.8\n",
      "n + tc100 -> tc101 + gamma: 682.90 mb\n",
      "n + tc90 -> tc91 + gamma: 373.49 mb\n",
      "n + tc91 -> tc92 + gamma: 560.06 mb\n",
      "n + tc92 -> tc93 + gamma: 767.28 mb\n",
      "n + tc93 -> tc94 + gamma: 476.53 mb\n",
      "n + tc94 -> tc95 + gamma: 712.03 mb\n",
      "n + tc95 -> tc96 + gamma: 558.44 mb\n",
      "n + tc96 -> tc97 + gamma: 678.43 mb\n",
      "n + tc97 -> tc98 + gamma: 513.30 mb\n",
      "n + tc98 -> tc99 + gamma: 834.82 mb\n",
      "n + tc99 -> tc100 + gamma: 456.89 mb\n"
     ]
    }
   ],
   "source": [
    "print('Cross Sections at T9 of ' + str(t9))\n",
    "\n",
    "for k,v in sorted(sig_dict.items()):\n",
    "    x =\"{:.2f}\".format(v)\n",
    "    print(str(k)+': ' + str(x) + ' mb')"
   ]
  },
  {
   "cell_type": "markdown",
   "metadata": {},
   "source": [
    "We now plot $\\sigma_n$ vs $n$"
   ]
  },
  {
   "cell_type": "code",
   "execution_count": 12,
   "metadata": {
    "scrolled": true
   },
   "outputs": [
    {
     "data": {
      "image/png": "[encoded data removed]",
      "text/plain": [
       "<Figure size 432x288 with 1 Axes>"
      ]
     },
     "metadata": {
      "needs_background": "light"
     },
     "output_type": "display_data"
    }
   ],
   "source": [
    "combine = defaultdict(list)\n",
    "\n",
    "for d in (sig_dict, filter):\n",
    "    for key, value in d.items():\n",
    "       combine[key].append(value)\n",
    "    \n",
    "sortedcombine = {k: v for k, v in sorted(combine.items(), key=lambda item: item[1][1])}\n",
    "\n",
    "x = []\n",
    "y = []\n",
    "\n",
    "for s in list(sortedcombine.values()):\n",
    "    x.append(s[1])\n",
    "    y.append(s[0])\n",
    "\n",
    "#print(sortedcombine)\n",
    "#print(x)\n",
    "#print(y)\n",
    "\n",
    "plt.plot(x, y)\n",
    "plt.ylabel('$\\\\sigma_n$')\n",
    "plt.xlabel('n')\n",
    "plt.show()"
   ]
  },
  {
   "cell_type": "markdown",
   "metadata": {},
   "source": [
    "Graph of path chosen."
   ]
  },
  {
   "cell_type": "code",
   "execution_count": 13,
   "metadata": {},
   "outputs": [],
   "source": [
    "G = nx.DiGraph()"
   ]
  },
  {
   "cell_type": "code",
   "execution_count": 14,
   "metadata": {},
   "outputs": [
    {
     "data": {
      "text/plain": [
       "{47: {48: {'weight': <Quantity 373.4922989>}},\n",
       " 48: {49: {'weight': <Quantity 560.05957545>}},\n",
       " 49: {50: {'weight': <Quantity 767.28310287>}},\n",
       " 50: {51: {'weight': <Quantity 476.53037464>}},\n",
       " 51: {52: {'weight': <Quantity 712.03297147>}},\n",
       " 52: {53: {'weight': <Quantity 558.4432123>}},\n",
       " 53: {54: {'weight': <Quantity 678.42813167>}},\n",
       " 54: {55: {'weight': <Quantity 513.29685288>}},\n",
       " 55: {56: {'weight': <Quantity 834.81798854>}},\n",
       " 56: {57: {'weight': <Quantity 456.8880826>}},\n",
       " 57: {58: {'weight': <Quantity 682.90141052>}},\n",
       " 58: {}}"
      ]
     },
     "execution_count": 14,
     "metadata": {},
     "output_type": "execute_result"
    }
   ],
   "source": [
    "x = []\n",
    "y = []\n",
    "for s,v in list(sortedcombine.items()):\n",
    "    x.append(v[1])\n",
    "    y.append(v[0])\n",
    "\n",
    "for i,j in zip(x,y):\n",
    "    G.add_edge(i,i+1, weight = j)\n",
    "\n",
    "nx.to_dict_of_dicts(G)"
   ]
  },
  {
   "cell_type": "code",
   "execution_count": 15,
   "metadata": {},
   "outputs": [
    {
     "data": {
      "image/png": "[encoded data removed]",
      "text/plain": [
       "<Figure size 432x288 with 1 Axes>"
      ]
     },
     "metadata": {},
     "output_type": "display_data"
    }
   ],
   "source": [
    "nx.draw(G,with_labels=True)\n",
    "plt.show()"
   ]
  },
  {
   "cell_type": "code",
   "execution_count": null,
   "metadata": {},
   "outputs": [],
   "source": []
  }
 ],
 "metadata": {
  "colab": {
   "authorship_tag": "ABX9TyOBa1w3f7TJR05ML+W6Wpji",
   "include_colab_link": true,
   "name": "Copy of Untitled0.ipynb",
   "provenance": [],
   "toc_visible": true
  },
  "kernelspec": {
   "display_name": "myenv",
   "language": "python",
   "name": "myenv"
  },
  "language_info": {
   "codemirror_mode": {
    "name": "ipython",
    "version": 3
   },
   "file_extension": ".py",
   "mimetype": "text/x-python",
   "name": "python",
   "nbconvert_exporter": "python",
   "pygments_lexer": "ipython3",
   "version": "3.7.12"
  }
 },
 "nbformat": 4,
 "nbformat_minor": 1
}
